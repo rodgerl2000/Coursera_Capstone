{
 "cells": [
  {
   "cell_type": "markdown",
   "metadata": {
    "collapsed": true
   },
   "source": [
    "# IBM Data Science Capstone Project -- Week 4"
   ]
  },
  {
   "cell_type": "markdown",
   "metadata": {},
   "source": [
    "## Most Proper Neighborhood to Operate a New Restaurant in San Francisco"
   ]
  },
  {
   "cell_type": "markdown",
   "metadata": {},
   "source": [
    "### Introduction:"
   ]
  },
  {
   "cell_type": "markdown",
   "metadata": {},
   "source": [
    "In this project, we want to choose the most proper neighborhood to open a new restaurant in San Francisco based on the restaurant volumes and crime rate of specific neighborhood. "
   ]
  },
  {
   "cell_type": "markdown",
   "metadata": {},
   "source": [
    "### Description and Background of the Problem:"
   ]
  },
  {
   "cell_type": "markdown",
   "metadata": {},
   "source": [
    "The purpose of this project is to find the most proper neighborhood to open a new restaurant. The 'proper' here refers to a neighborhood with more restaurants round and less crime rate among all neighborhood. The consideration here is:\n",
    "\n",
    "a) neighborhood with more restaurants means there're more clients and normally a recoginized location for the Food & Beverage consumption in the city;\n",
    "\n",
    "b) neighborhood with less crime rate means that is safe place to operate business sustainably and better for owner.\n",
    "\n",
    "Though in most cases the good neighborhood normally consists both of above two characteristics, we would like to substantiate it from quantative perspective in this project.  "
   ]
  },
  {
   "cell_type": "markdown",
   "metadata": {},
   "source": [
    "### Description of the Data:"
   ]
  },
  {
   "cell_type": "markdown",
   "metadata": {},
   "source": [
    "For assessment purpose, we download the data from website linkage (https://cocl.us/sanfran_crime_dataset) for further analysis. The database set consists following information:\n",
    "\n",
    "a) Neighborhood location;\n",
    "b) Crime category;\n",
    "c) Crime address;\n",
    "\n",
    "We will use above data to analyze:\n",
    "i)  Volume of venues in each neighborhood based on the data from foursquare.com database;\n",
    "ii) Crime volume rank of each neighborhood;\n",
    "iii)Choose most proper neighborhood for new restaurant. "
   ]
  },
  {
   "cell_type": "code",
   "execution_count": null,
   "metadata": {},
   "outputs": [],
   "source": []
  }
 ],
 "metadata": {
  "kernelspec": {
   "display_name": "Python 3",
   "language": "python",
   "name": "python3"
  },
  "language_info": {
   "codemirror_mode": {
    "name": "ipython",
    "version": 3
   },
   "file_extension": ".py",
   "mimetype": "text/x-python",
   "name": "python",
   "nbconvert_exporter": "python",
   "pygments_lexer": "ipython3",
   "version": "3.7.6"
  }
 },
 "nbformat": 4,
 "nbformat_minor": 1
}
